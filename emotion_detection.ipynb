{
 "cells": [
  {
   "cell_type": "code",
   "execution_count": 18,
   "id": "3f0dc751-0a5e-4184-837d-0f1177c0202f",
   "metadata": {},
   "outputs": [
    {
     "name": "stderr",
     "output_type": "stream",
     "text": [
      "                                                                                                                       "
     ]
    },
    {
     "name": "stdout",
     "output_type": "stream",
     "text": [
      "Epoch 1 Train Metrics: Loss: 1.6603, Accuracy: 0.34, Precision: 0.31, Recall: 0.34, F1 Score: 0.29\n"
     ]
    },
    {
     "name": "stderr",
     "output_type": "stream",
     "text": [
      "C:\\Users\\YAMINI RAVICHANDRAN\\AppData\\Roaming\\Python\\Python311\\site-packages\\sklearn\\metrics\\_classification.py:1565: UndefinedMetricWarning: Precision is ill-defined and being set to 0.0 in labels with no predicted samples. Use `zero_division` parameter to control this behavior.\n",
      "  _warn_prf(average, modifier, f\"{metric.capitalize()} is\", len(result))\n"
     ]
    },
    {
     "name": "stdout",
     "output_type": "stream",
     "text": [
      "Epoch 2 Train Metrics: Loss: 1.4311, Accuracy: 0.45, Precision: 0.42, Recall: 0.45, F1 Score: 0.42\n"
     ]
    },
    {
     "name": "stderr",
     "output_type": "stream",
     "text": [
      "                                                                                                                       "
     ]
    },
    {
     "name": "stdout",
     "output_type": "stream",
     "text": [
      "Epoch 3 Train Metrics: Loss: 1.3298, Accuracy: 0.49, Precision: 0.47, Recall: 0.49, F1 Score: 0.47\n"
     ]
    },
    {
     "name": "stderr",
     "output_type": "stream",
     "text": [
      "                                                                                                                       "
     ]
    },
    {
     "name": "stdout",
     "output_type": "stream",
     "text": [
      "Epoch 4 Train Metrics: Loss: 1.2743, Accuracy: 0.52, Precision: 0.51, Recall: 0.52, F1 Score: 0.50\n"
     ]
    },
    {
     "name": "stderr",
     "output_type": "stream",
     "text": [
      "                                                                                                                       "
     ]
    },
    {
     "name": "stdout",
     "output_type": "stream",
     "text": [
      "Epoch 5 Train Metrics: Loss: 1.2302, Accuracy: 0.53, Precision: 0.52, Recall: 0.53, F1 Score: 0.52\n"
     ]
    },
    {
     "name": "stderr",
     "output_type": "stream",
     "text": [
      "                                                                                                                       "
     ]
    },
    {
     "name": "stdout",
     "output_type": "stream",
     "text": [
      "Epoch 6 Train Metrics: Loss: 1.2050, Accuracy: 0.54, Precision: 0.53, Recall: 0.54, F1 Score: 0.53\n"
     ]
    },
    {
     "name": "stderr",
     "output_type": "stream",
     "text": [
      "                                                                                                                       "
     ]
    },
    {
     "name": "stdout",
     "output_type": "stream",
     "text": [
      "Epoch 7 Train Metrics: Loss: 1.1800, Accuracy: 0.56, Precision: 0.54, Recall: 0.56, F1 Score: 0.54\n"
     ]
    },
    {
     "name": "stderr",
     "output_type": "stream",
     "text": [
      "                                                                                                                       "
     ]
    },
    {
     "name": "stdout",
     "output_type": "stream",
     "text": [
      "Epoch 8 Train Metrics: Loss: 1.1520, Accuracy: 0.56, Precision: 0.55, Recall: 0.56, F1 Score: 0.55\n"
     ]
    },
    {
     "name": "stderr",
     "output_type": "stream",
     "text": [
      "                                                                                                                       "
     ]
    },
    {
     "name": "stdout",
     "output_type": "stream",
     "text": [
      "Epoch 9 Train Metrics: Loss: 1.1388, Accuracy: 0.57, Precision: 0.56, Recall: 0.57, F1 Score: 0.56\n"
     ]
    },
    {
     "name": "stderr",
     "output_type": "stream",
     "text": [
      "                                                                                                                       "
     ]
    },
    {
     "name": "stdout",
     "output_type": "stream",
     "text": [
      "Epoch 10 Train Metrics: Loss: 1.1181, Accuracy: 0.58, Precision: 0.57, Recall: 0.58, F1 Score: 0.57\n"
     ]
    },
    {
     "name": "stderr",
     "output_type": "stream",
     "text": [
      "                                                                                                                       "
     ]
    },
    {
     "name": "stdout",
     "output_type": "stream",
     "text": [
      "Epoch 11 Train Metrics: Loss: 1.1010, Accuracy: 0.58, Precision: 0.58, Recall: 0.58, F1 Score: 0.58\n"
     ]
    },
    {
     "name": "stderr",
     "output_type": "stream",
     "text": [
      "                                                                                                                       "
     ]
    },
    {
     "name": "stdout",
     "output_type": "stream",
     "text": [
      "Epoch 12 Train Metrics: Loss: 1.0830, Accuracy: 0.59, Precision: 0.59, Recall: 0.59, F1 Score: 0.58\n"
     ]
    },
    {
     "name": "stderr",
     "output_type": "stream",
     "text": [
      "                                                                                                                       "
     ]
    },
    {
     "name": "stdout",
     "output_type": "stream",
     "text": [
      "Epoch 13 Train Metrics: Loss: 1.0674, Accuracy: 0.59, Precision: 0.59, Recall: 0.59, F1 Score: 0.59\n"
     ]
    },
    {
     "name": "stderr",
     "output_type": "stream",
     "text": [
      "                                                                                                                       "
     ]
    },
    {
     "name": "stdout",
     "output_type": "stream",
     "text": [
      "Epoch 14 Train Metrics: Loss: 1.0524, Accuracy: 0.60, Precision: 0.60, Recall: 0.60, F1 Score: 0.60\n"
     ]
    },
    {
     "name": "stderr",
     "output_type": "stream",
     "text": [
      "                                                                                                                       "
     ]
    },
    {
     "name": "stdout",
     "output_type": "stream",
     "text": [
      "Epoch 15 Train Metrics: Loss: 1.0433, Accuracy: 0.60, Precision: 0.60, Recall: 0.60, F1 Score: 0.60\n"
     ]
    },
    {
     "name": "stderr",
     "output_type": "stream",
     "text": [
      "                                                                                                                       "
     ]
    },
    {
     "name": "stdout",
     "output_type": "stream",
     "text": [
      "Epoch 16 Train Metrics: Loss: 1.0309, Accuracy: 0.61, Precision: 0.61, Recall: 0.61, F1 Score: 0.61\n"
     ]
    },
    {
     "name": "stderr",
     "output_type": "stream",
     "text": [
      "                                                                                                                       "
     ]
    },
    {
     "name": "stdout",
     "output_type": "stream",
     "text": [
      "Epoch 17 Train Metrics: Loss: 1.0239, Accuracy: 0.61, Precision: 0.61, Recall: 0.61, F1 Score: 0.60\n"
     ]
    },
    {
     "name": "stderr",
     "output_type": "stream",
     "text": [
      "                                                                                                                       "
     ]
    },
    {
     "name": "stdout",
     "output_type": "stream",
     "text": [
      "Epoch 18 Train Metrics: Loss: 1.0149, Accuracy: 0.62, Precision: 0.61, Recall: 0.62, F1 Score: 0.61\n"
     ]
    },
    {
     "name": "stderr",
     "output_type": "stream",
     "text": [
      "                                                                                                                       "
     ]
    },
    {
     "name": "stdout",
     "output_type": "stream",
     "text": [
      "Epoch 19 Train Metrics: Loss: 1.0043, Accuracy: 0.62, Precision: 0.62, Recall: 0.62, F1 Score: 0.62\n"
     ]
    },
    {
     "name": "stderr",
     "output_type": "stream",
     "text": [
      "                                                                                                                       "
     ]
    },
    {
     "name": "stdout",
     "output_type": "stream",
     "text": [
      "Epoch 20 Train Metrics: Loss: 1.0009, Accuracy: 0.62, Precision: 0.62, Recall: 0.62, F1 Score: 0.62\n"
     ]
    },
    {
     "name": "stderr",
     "output_type": "stream",
     "text": [
      "                                                                                                                       "
     ]
    },
    {
     "name": "stdout",
     "output_type": "stream",
     "text": [
      "Epoch 21 Train Metrics: Loss: 0.9813, Accuracy: 0.63, Precision: 0.62, Recall: 0.63, F1 Score: 0.62\n"
     ]
    },
    {
     "name": "stderr",
     "output_type": "stream",
     "text": [
      "                                                                                                                       "
     ]
    },
    {
     "name": "stdout",
     "output_type": "stream",
     "text": [
      "Epoch 22 Train Metrics: Loss: 0.9768, Accuracy: 0.63, Precision: 0.63, Recall: 0.63, F1 Score: 0.63\n"
     ]
    },
    {
     "name": "stderr",
     "output_type": "stream",
     "text": [
      "                                                                                                                       "
     ]
    },
    {
     "name": "stdout",
     "output_type": "stream",
     "text": [
      "Epoch 23 Train Metrics: Loss: 0.9739, Accuracy: 0.63, Precision: 0.63, Recall: 0.63, F1 Score: 0.63\n"
     ]
    },
    {
     "name": "stderr",
     "output_type": "stream",
     "text": [
      "                                                                                                                       "
     ]
    },
    {
     "name": "stdout",
     "output_type": "stream",
     "text": [
      "Epoch 24 Train Metrics: Loss: 0.9677, Accuracy: 0.63, Precision: 0.63, Recall: 0.63, F1 Score: 0.63\n"
     ]
    },
    {
     "name": "stderr",
     "output_type": "stream",
     "text": [
      "                                                                                                                       "
     ]
    },
    {
     "name": "stdout",
     "output_type": "stream",
     "text": [
      "Epoch 25 Train Metrics: Loss: 0.9549, Accuracy: 0.64, Precision: 0.64, Recall: 0.64, F1 Score: 0.64\n"
     ]
    },
    {
     "name": "stderr",
     "output_type": "stream",
     "text": [
      "                                                                                                                       "
     ]
    },
    {
     "name": "stdout",
     "output_type": "stream",
     "text": [
      "Epoch 26 Train Metrics: Loss: 0.9482, Accuracy: 0.64, Precision: 0.64, Recall: 0.64, F1 Score: 0.64\n"
     ]
    },
    {
     "name": "stderr",
     "output_type": "stream",
     "text": [
      "                                                                                                                       "
     ]
    },
    {
     "name": "stdout",
     "output_type": "stream",
     "text": [
      "Epoch 27 Train Metrics: Loss: 0.9553, Accuracy: 0.64, Precision: 0.64, Recall: 0.64, F1 Score: 0.63\n"
     ]
    },
    {
     "name": "stderr",
     "output_type": "stream",
     "text": [
      "                                                                                                                       "
     ]
    },
    {
     "name": "stdout",
     "output_type": "stream",
     "text": [
      "Epoch 28 Train Metrics: Loss: 0.9368, Accuracy: 0.64, Precision: 0.64, Recall: 0.64, F1 Score: 0.64\n"
     ]
    },
    {
     "name": "stderr",
     "output_type": "stream",
     "text": [
      "                                                                                                                       "
     ]
    },
    {
     "name": "stdout",
     "output_type": "stream",
     "text": [
      "Epoch 29 Train Metrics: Loss: 0.9274, Accuracy: 0.65, Precision: 0.64, Recall: 0.65, F1 Score: 0.64\n"
     ]
    },
    {
     "name": "stderr",
     "output_type": "stream",
     "text": [
      "                                                                                                                       "
     ]
    },
    {
     "name": "stdout",
     "output_type": "stream",
     "text": [
      "Epoch 30 Train Metrics: Loss: 0.9262, Accuracy: 0.65, Precision: 0.65, Recall: 0.65, F1 Score: 0.65\n",
      "Test Metrics: Accuracy: 0.58, Precision: 0.57, Recall: 0.58, F1 Score: 0.57\n"
     ]
    },
    {
     "data": {
      "image/png": "[encoded data removed]",
      "text/plain": [
       "<Figure size 1200x300 with 5 Axes>"
      ]
     },
     "metadata": {},
     "output_type": "display_data"
    }
   ],
   "source": [
    "import os\n",
    "from PIL import Image\n",
    "from torch.utils.data import Dataset, DataLoader\n",
    "from torchvision import transforms\n",
    "import torch\n",
    "import torch.nn as nn\n",
    "import torch.optim as optim\n",
    "from tqdm import tqdm\n",
    "import matplotlib.pyplot as plt\n",
    "from sklearn.metrics import precision_score, recall_score, f1_score, accuracy_score\n",
    "import numpy as np\n",
    "\n",
    "train_data=r\"C:\\Users\\YAMINI RAVICHANDRAN\\OneDrive\\ドキュメント\\emotion\\archive\\train\"\n",
    "test_data=r\"C:\\Users\\YAMINI RAVICHANDRAN\\OneDrive\\ドキュメント\\emotion\\archive\\test\"\n",
    "\n",
    "Emotions=['angry','disgust','fear','happy','neutral','sad','surprise']\n",
    "\n",
    "class EmotionDataset(Dataset):\n",
    "    def __init__(self,root_dir,transform=None):\n",
    "        self.root_dir=root_dir\n",
    "        self.transform=transform\n",
    "        self.samples=[]\n",
    "\n",
    "        for label,emotions in enumerate(Emotions):\n",
    "            emotion_data=os.path.join(root_dir,emotions)\n",
    "            for img_name in os.listdir(emotion_data):\n",
    "                img_path=os.path.join(emotion_data,img_name)\n",
    "                self.samples.append((img_path,label))\n",
    "                \n",
    "    def __len__(self):\n",
    "        return len(self.samples)\n",
    "         \n",
    "         \n",
    "    def __getitem__(self,idx):\n",
    "        img_path,label=self.samples[idx]\n",
    "         \n",
    "         \n",
    "        image=Image.open(img_path).convert('RGB')\n",
    "        if self.transform:\n",
    "            image=self.transform(image)\n",
    "             \n",
    "        return image,label    \n",
    "\n",
    "\n",
    "transform=transforms.Compose([\n",
    "    transforms.Resize((48,48)),\n",
    "    transforms.RandomHorizontalFlip(p=0.5),\n",
    "    transforms.RandomRotation(10),\n",
    "    transforms.ToTensor(),\n",
    "    transforms.Normalize((0.5,), (0.5,))\n",
    "])\n",
    "\n",
    "train_dataset = EmotionDataset(root_dir=train_data, transform=transform)\n",
    "test_dataset = EmotionDataset(root_dir=test_data, transform=transform)\n",
    "\n",
    "train_loader = DataLoader(train_dataset, batch_size=64, shuffle=True)\n",
    "test_loader = DataLoader(test_dataset, batch_size=64, shuffle=False)\n",
    "\n",
    "class EmotionCNN(nn.Module):\n",
    "    def __init__(self):\n",
    "        super(EmotionCNN,self).__init__()\n",
    "        self.conv_layers=nn.Sequential(\n",
    "            nn.Conv2d(3,32,kernel_size=3,padding=1),\n",
    "            nn.ReLU(),\n",
    "            nn.MaxPool2d(2,2),\n",
    "\n",
    "            nn.Conv2d(32,64,kernel_size=3,padding=1),\n",
    "            nn.ReLU(),\n",
    "            nn.MaxPool2d(2,2),\n",
    "\n",
    "            nn.Conv2d(64,128,kernel_size=3,padding=1),\n",
    "            nn.ReLU(),\n",
    "            nn.MaxPool2d(2,2),\n",
    "        )\n",
    "        self.fc_layers=nn.Sequential(\n",
    "            nn.Flatten(),\n",
    "            nn.Linear(128 * 6 * 6, 256),\n",
    "            nn.ReLU(),\n",
    "            nn.Dropout(0.5),\n",
    "            nn.Linear(256, len(Emotions))\n",
    "        )\n",
    "    def forward(self,X):\n",
    "        X=self.conv_layers(X)\n",
    "        X=self.fc_layers(X)\n",
    "        return X\n",
    "\n",
    "device = torch.device(\"cuda\" if torch.cuda.is_available() else \"cpu\")\n",
    "model = EmotionCNN().to(device)\n",
    "criterion = nn.CrossEntropyLoss()\n",
    "optimizer = optim.Adam(model.parameters(), lr=0.001)\n",
    "\n",
    "def train_model(model, train_loader, criterion, optimizer, num_epochs):\n",
    "    \n",
    "    for epoch in range(num_epochs):\n",
    "        model.train()\n",
    "        running_loss = 0.0\n",
    "        all_labels = []\n",
    "        all_preds = []\n",
    "\n",
    "\n",
    "        loop = tqdm(train_loader, leave=False)\n",
    "        for images, labels in loop:\n",
    "            images, labels = images.to(device), labels.to(device)\n",
    "            \n",
    "            optimizer.zero_grad()\n",
    "\n",
    "            outputs = model(images)\n",
    "            loss = criterion(outputs, labels)\n",
    "            loss.backward()\n",
    "            optimizer.step()\n",
    "\n",
    "            running_loss += loss.item()\n",
    "            _, predicted = torch.max(outputs, 1)\n",
    "            all_labels.extend(labels.cpu().numpy())\n",
    "            all_preds.extend(predicted.cpu().numpy())\n",
    "\n",
    "            loop.set_description(f\"Epoch [{epoch+1}/{num_epochs}]\")\n",
    "            loop.set_postfix(loss=loss.item())\n",
    "\n",
    "        train_accuracy = accuracy_score(all_labels, all_preds)\n",
    "        train_precision = precision_score(all_labels, all_preds, average='weighted')\n",
    "        train_recall = recall_score(all_labels, all_preds, average='weighted')\n",
    "        train_f1 = f1_score(all_labels, all_preds, average='weighted')\n",
    "\n",
    "        print(f\"Epoch {epoch+1} Train Metrics: Loss: {running_loss/len(train_loader):.4f}, Accuracy: {train_accuracy:.2f}, Precision: {train_precision:.2f}, Recall: {train_recall:.2f}, F1 Score: {train_f1:.2f}\")\n",
    "\n",
    "\n",
    "def evaluate_model(model, loader):\n",
    "    model.eval()\n",
    "    all_labels = []\n",
    "    all_preds = []\n",
    "\n",
    "    \n",
    "    with torch.no_grad():\n",
    "        for images, labels in loader:\n",
    "            images, labels = images.to(device), labels.to(device)\n",
    "            outputs = model(images)\n",
    "            _, predicted = torch.max(outputs, 1)\n",
    "            all_labels.extend(labels.cpu().numpy())\n",
    "            all_preds.extend(predicted.cpu().numpy())\n",
    "            \n",
    "    test_accuracy = accuracy_score(all_labels, all_preds)\n",
    "    test_precision = precision_score(all_labels, all_preds, average='weighted')\n",
    "    test_recall = recall_score(all_labels, all_preds, average='weighted')\n",
    "    test_f1 = f1_score(all_labels, all_preds, average='weighted') \n",
    "    \n",
    "    print(f\"Test Metrics: Accuracy: {test_accuracy:.2f}, Precision: {test_precision:.2f}, Recall: {test_recall:.2f}, F1 Score: {test_f1:.2f}\")\n",
    "\n",
    "\n",
    "train_model(model=model, train_loader=train_loader, criterion=criterion, optimizer=optimizer, num_epochs=30)\n",
    "\n",
    "evaluate_model(model, test_loader)\n",
    " \n",
    "\n",
    "\n",
    "    \n",
    "def visualize_samples(loader):\n",
    "    images, labels = next(iter(loader))\n",
    "    fig, axes = plt.subplots(1, 5, figsize=(12, 3))\n",
    "    for i in range(5):\n",
    "        ax = axes[i]\n",
    "        ax.imshow(images[i].permute(1, 2, 0).numpy() * 0.5 + 0.5)  \n",
    "        ax.set_title(f\"Label: {Emotions[labels[i]]}\")\n",
    "        ax.axis(\"off\")\n",
    "    plt.show()\n",
    "\n",
    "visualize_samples(train_loader)\n",
    "    \n",
    "\n",
    "\n",
    "\n",
    "    \n",
    "        "
   ]
  },
  {
   "cell_type": "code",
   "execution_count": 19,
   "id": "43bab15a-32fb-4582-8c6b-5e96f46d81b9",
   "metadata": {},
   "outputs": [],
   "source": [
    "torch.save(model.state_dict(), \"emotion_cnn_model.pth\")\n"
   ]
  },
  {
   "cell_type": "code",
   "execution_count": 20,
   "id": "8a0fba7d-7c71-4068-b4a7-1676d054b0a6",
   "metadata": {},
   "outputs": [],
   "source": [
    "def load_model(filepath):\n",
    "    model = EmotionCNN().to(device)\n",
    "    model.load_state_dict(torch.load(filepath))\n",
    "    model.eval()\n",
    "    return model\n"
   ]
  },
  {
   "cell_type": "code",
   "execution_count": 21,
   "id": "3e6d02b5-a8eb-48ef-92ef-af50b83d7457",
   "metadata": {},
   "outputs": [],
   "source": [
    "def predict_emotion(model, image_path):\n",
    "    transform = transforms.Compose([\n",
    "        transforms.Resize((48, 48)),\n",
    "        transforms.ToTensor(),\n",
    "        transforms.Normalize((0.5,), (0.5,))\n",
    "    ])\n",
    "    image = Image.open(image_path).convert('RGB')\n",
    "    image = transform(image).unsqueeze(0).to(device)\n",
    "    output = model(image)\n",
    "    _, predicted = torch.max(output, 1)\n",
    "    return Emotions[predicted.item()]\n"
   ]
  },
  {
   "cell_type": "code",
   "execution_count": null,
   "id": "f8cc08b3-3feb-4706-92b3-3991dda924e6",
   "metadata": {},
   "outputs": [],
   "source": []
  }
 ],
 "metadata": {
  "kernelspec": {
   "display_name": "Python 3 (ipykernel)",
   "language": "python",
   "name": "python3"
  },
  "language_info": {
   "codemirror_mode": {
    "name": "ipython",
    "version": 3
   },
   "file_extension": ".py",
   "mimetype": "text/x-python",
   "name": "python",
   "nbconvert_exporter": "python",
   "pygments_lexer": "ipython3",
   "version": "3.11.8"
  }
 },
 "nbformat": 4,
 "nbformat_minor": 5
}
